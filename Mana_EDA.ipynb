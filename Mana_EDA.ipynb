{
 "cells": [
  {
   "cell_type": "markdown",
   "id": "1598ba24-52cf-4685-8ada-637add2ba40f",
   "metadata": {},
   "source": [
    "# 5/16/25\n",
    "#### EDA from Rachie"
   ]
  },
  {
   "cell_type": "code",
   "execution_count": 3,
   "id": "67fac200-b902-471f-ac00-ee67a7e22560",
   "metadata": {},
   "outputs": [],
   "source": [
    "# Import necessary libraries\n",
    "import pandas as pd\n",
    "import numpy as np\n",
    "import matplotlib.pyplot as plt\n",
    "import seaborn as sns\n",
    "from sklearn.model_selection import train_test_split, cross_val_score, StratifiedKFold\n",
    "from sklearn.preprocessing import StandardScaler, OneHotEncoder\n",
    "from sklearn.impute import SimpleImputer\n",
    "from sklearn.compose import ColumnTransformer\n",
    "from sklearn.pipeline import Pipeline\n",
    "from sklearn.metrics import accuracy_score, precision_score, recall_score, f1_score, roc_auc_score, confusion_matrix, classification_report, roc_curve, precision_recall_curve, auc\n",
    "import warnings\n",
    "warnings.filterwarnings('ignore')"
   ]
  },
  {
   "cell_type": "code",
   "execution_count": 10,
   "id": "ee903bd1-816a-4a0d-9c0c-e0cd1dd4bc39",
   "metadata": {},
   "outputs": [],
   "source": [
    "# Load the dataset\n",
    "file_path = '/Users/manarogers/STA 141C/STA141C/ckd-dataset-v2.csv'  # Go up one directory, then into data\n",
    "data = pd.read_csv(file_path)\n"
   ]
  },
  {
   "cell_type": "code",
   "execution_count": 14,
   "id": "0c4174a4-ea1f-4801-9b3d-73bab992a4e9",
   "metadata": {},
   "outputs": [
    {
     "name": "stdout",
     "output_type": "stream",
     "text": [
      "Dataset shape: (202, 29)\n",
      "\n",
      "First 5 rows:\n",
      "  bp (Diastolic)  bp limit             sg        al     class       rbc  \\\n",
      "0       discrete  discrete       discrete  discrete  discrete  discrete   \n",
      "1            NaN       NaN            NaN       NaN       NaN       NaN   \n",
      "2              0         0  1.019 - 1.021     1 - 1       ckd         0   \n",
      "3              0         0  1.009 - 1.011       < 0       ckd         0   \n",
      "4              0         0  1.009 - 1.011       ≥ 4       ckd         1   \n",
      "\n",
      "         su        pc       pcc        ba  ...       htn        dm       cad  \\\n",
      "0  discrete  discrete  discrete  discrete  ...  discrete  discrete  discrete   \n",
      "1       NaN       NaN       NaN       NaN  ...       NaN       NaN       NaN   \n",
      "2       < 0         0         0         0  ...         0         0         0   \n",
      "3       < 0         0         0         0  ...         0         0         0   \n",
      "4       < 0         1         0         1  ...         0         0         0   \n",
      "\n",
      "      appet        pe       ane                grf     stage  affected  \\\n",
      "0  discrete  discrete  discrete           discrete  discrete  discrete   \n",
      "1       NaN       NaN       NaN                NaN       NaN     class   \n",
      "2         0         0         0          ≥ 227.944        s1         1   \n",
      "3         0         0         0          ≥ 227.944        s1         1   \n",
      "4         1         0         0  127.281 - 152.446        s1         1   \n",
      "\n",
      "        age  \n",
      "0  discrete  \n",
      "1      meta  \n",
      "2      < 12  \n",
      "3      < 12  \n",
      "4      < 12  \n",
      "\n",
      "[5 rows x 29 columns]\n"
     ]
    }
   ],
   "source": [
    "# Display basic information about the dataset\n",
    "print(\"Dataset shape:\", data.shape)\n",
    "print(\"\\nFirst 5 rows:\")\n",
    "print(data.head())"
   ]
  },
  {
   "cell_type": "code",
   "execution_count": 16,
   "id": "3a998ba3-112b-41a4-84c1-a9d13b7fcbbc",
   "metadata": {},
   "outputs": [
    {
     "name": "stdout",
     "output_type": "stream",
     "text": [
      "\n",
      "Data types:\n",
      "bp (Diastolic)    object\n",
      "bp limit          object\n",
      "sg                object\n",
      "al                object\n",
      "class             object\n",
      "rbc               object\n",
      "su                object\n",
      "pc                object\n",
      "pcc               object\n",
      "ba                object\n",
      "bgr               object\n",
      "bu                object\n",
      "sod               object\n",
      "sc                object\n",
      "pot               object\n",
      "hemo              object\n",
      "pcv               object\n",
      "rbcc              object\n",
      "wbcc              object\n",
      "htn               object\n",
      "dm                object\n",
      "cad               object\n",
      "appet             object\n",
      "pe                object\n",
      "ane               object\n",
      "grf               object\n",
      "stage             object\n",
      "affected          object\n",
      "age               object\n",
      "dtype: object\n",
      "\n",
      "Missing values per column:\n",
      "bp (Diastolic)    1\n",
      "bp limit          1\n",
      "sg                1\n",
      "al                1\n",
      "class             1\n",
      "rbc               1\n",
      "su                1\n",
      "pc                1\n",
      "pcc               1\n",
      "ba                1\n",
      "bgr               1\n",
      "bu                1\n",
      "sod               1\n",
      "sc                1\n",
      "pot               1\n",
      "hemo              1\n",
      "pcv               1\n",
      "rbcc              1\n",
      "wbcc              1\n",
      "htn               1\n",
      "dm                1\n",
      "cad               1\n",
      "appet             1\n",
      "pe                1\n",
      "ane               1\n",
      "grf               1\n",
      "stage             1\n",
      "affected          0\n",
      "age               0\n",
      "dtype: int64\n"
     ]
    }
   ],
   "source": [
    "# Check data types and missing values\n",
    "print(\"\\nData types:\")\n",
    "print(data.dtypes)\n",
    "print(\"\\nMissing values per column:\")\n",
    "print(data.isnull().sum())\n"
   ]
  },
  {
   "cell_type": "code",
   "execution_count": 18,
   "id": "c4ae5fd8-43b9-4ccd-ba62-dfd1aea3cc43",
   "metadata": {},
   "outputs": [
    {
     "name": "stdout",
     "output_type": "stream",
     "text": [
      "\n",
      "Summary statistics:\n",
      "       bp (Diastolic) bp limit             sg   al class  rbc   su   pc  pcc  \\\n",
      "count             201      201            201  201   201  201  201  201  201   \n",
      "unique              3        4              6    6     3    3    7    3    3   \n",
      "top                 1        0  1.019 - 1.021  < 0   ckd    0  < 0    0    0   \n",
      "freq              108       95             75  116   128  175  170  155  173   \n",
      "\n",
      "         ba  ...  htn   dm  cad appet   pe  ane        grf stage affected  \\\n",
      "count   201  ...  201  201  201   201  201  201        201   201      202   \n",
      "unique    3  ...    3    3    3     3    3    3         12     6        4   \n",
      "top       0  ...    0    0    0     0    0    0  < 26.6175    s1        1   \n",
      "freq    189  ...  122  130  178   160  165  168         68    54      128   \n",
      "\n",
      "            age  \n",
      "count       202  \n",
      "unique       12  \n",
      "top     59 - 66  \n",
      "freq         48  \n",
      "\n",
      "[4 rows x 29 columns]\n"
     ]
    }
   ],
   "source": [
    "# Summary statistics for numerical columns\n",
    "print(\"\\nSummary statistics:\")\n",
    "print(data.describe())\n"
   ]
  },
  {
   "cell_type": "code",
   "execution_count": 20,
   "id": "a51b82ff-6ff8-4978-86ac-6fd288c2b644",
   "metadata": {},
   "outputs": [
    {
     "name": "stdout",
     "output_type": "stream",
     "text": [
      "\n",
      "Class distribution:\n",
      "class\n",
      "ckd         128\n",
      "notckd       72\n",
      "discrete      1\n",
      "Name: count, dtype: int64\n",
      "class\n",
      "ckd         63.7\n",
      "notckd      35.8\n",
      "discrete     0.5\n",
      "Name: proportion, dtype: float64 %\n"
     ]
    }
   ],
   "source": [
    "# Check class distribution (imbalance)\n",
    "print(\"\\nClass distribution:\")\n",
    "print(data['class'].value_counts())\n",
    "print(data['class'].value_counts(normalize=True).round(3) * 100, \"%\")"
   ]
  },
  {
   "cell_type": "markdown",
   "id": "9e0881b1-e8c0-4d8f-a02c-49eb01b8427a",
   "metadata": {},
   "source": [
    "# Necessary Cleaning:\n",
    "\n",
    "- removing characters from columns\n",
    "- Visualize binary, categorical and integer datatypes"
   ]
  }
 ],
 "metadata": {
  "kernelspec": {
   "display_name": "Python 3 (ipykernel)",
   "language": "python",
   "name": "python3"
  },
  "language_info": {
   "codemirror_mode": {
    "name": "ipython",
    "version": 3
   },
   "file_extension": ".py",
   "mimetype": "text/x-python",
   "name": "python",
   "nbconvert_exporter": "python",
   "pygments_lexer": "ipython3",
   "version": "3.12.4"
  }
 },
 "nbformat": 4,
 "nbformat_minor": 5
}
